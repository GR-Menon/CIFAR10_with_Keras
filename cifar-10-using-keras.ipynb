{
 "metadata": {
  "kernelspec": {
   "language": "python",
   "display_name": "Python 3",
   "name": "python3"
  },
  "language_info": {
   "name": "python",
   "version": "3.7.12",
   "mimetype": "text/x-python",
   "codemirror_mode": {
    "name": "ipython",
    "version": 3
   },
   "pygments_lexer": "ipython3",
   "nbconvert_exporter": "python",
   "file_extension": ".py"
  }
 },
 "nbformat_minor": 4,
 "nbformat": 4,
 "cells": [
  {
   "cell_type": "markdown",
   "source": [
    "## CIFAR-10\n",
    "\n",
    "The CIFAR-10 dataset consists of 60000 32x32 colour images in 10 classes, with 6000 images per class. There are 50000 training images and 10000 test images.\n",
    "\n",
    "The dataset is divided into five training batches and one test batch, each with 10000 images. The test batch contains exactly 1000 randomly-selected images from each class. The training batches contain the remaining images in random order, but some training batches may contain more images from one class than another. Between them, the training batches contain exactly 5000 images from each class.\n",
    "\n",
    "\n",
    "### Implementation\n",
    "\n",
    "Below is a Keras implementation of a basic Convolutional Neural Network using:\n",
    "1. Dropout Regularization\n",
    "2. BatchNormalization\n",
    "3. ReduceLROnPlateau Callback\n",
    "4. Adam optimizer with Nesterov momentum"
   ],
   "metadata": {}
  },
  {
   "cell_type": "code",
   "source": [
    "!nvidia-smi"
   ],
   "metadata": {
    "id": "ajWSFE1JY5u0",
    "outputId": "9e3e7cbb-da6f-428d-b106-752a3c0daf7a",
    "execution": {
     "iopub.status.busy": "2023-06-02T13:21:36.109492Z",
     "iopub.execute_input": "2023-06-02T13:21:36.110085Z",
     "iopub.status.idle": "2023-06-02T13:21:37.208637Z",
     "shell.execute_reply.started": "2023-06-02T13:21:36.109992Z",
     "shell.execute_reply": "2023-06-02T13:21:37.206884Z"
    },
    "trusted": true
   },
   "execution_count": 1,
   "outputs": [
    {
     "name": "stdout",
     "text": "Fri Jun  2 13:21:37 2023       \n+-----------------------------------------------------------------------------+\n| NVIDIA-SMI 470.161.03   Driver Version: 470.161.03   CUDA Version: 11.4     |\n|-------------------------------+----------------------+----------------------+\n| GPU  Name        Persistence-M| Bus-Id        Disp.A | Volatile Uncorr. ECC |\n| Fan  Temp  Perf  Pwr:Usage/Cap|         Memory-Usage | GPU-Util  Compute M. |\n|                               |                      |               MIG M. |\n|===============================+======================+======================|\n|   0  Tesla P100-PCIE...  Off  | 00000000:00:04.0 Off |                    0 |\n| N/A   37C    P0    26W / 250W |      0MiB / 16280MiB |      0%      Default |\n|                               |                      |                  N/A |\n+-------------------------------+----------------------+----------------------+\n                                                                               \n+-----------------------------------------------------------------------------+\n| Processes:                                                                  |\n|  GPU   GI   CI        PID   Type   Process name                  GPU Memory |\n|        ID   ID                                                   Usage      |\n|=============================================================================|\n|  No running processes found                                                 |\n+-----------------------------------------------------------------------------+\n",
     "output_type": "stream"
    }
   ]
  },
  {
   "cell_type": "markdown",
   "source": [
    "## Import Libraries"
   ],
   "metadata": {}
  },
  {
   "cell_type": "code",
   "source": [
    "import numpy as np \n",
    "import pandas as pd \n",
    "import matplotlib.pyplot as plt \n",
    "from matplotlib.ticker import (MultipleLocator, FormatStrFormatter)\n",
    "%matplotlib inline\n",
    "\n",
    "import tensorflow as tf\n",
    "import keras\n",
    "from tensorflow.keras.layers import Flatten,Dense,Conv2D,MaxPool2D,BatchNormalization,Dropout,Activation\n",
    "from tensorflow.keras.models import Sequential\n",
    "from tensorflow.keras.datasets import cifar10\n",
    "from tensorflow.keras.utils import to_categorical"
   ],
   "metadata": {
    "id": "yryTgHDuNdQJ",
    "outputId": "c0918fdc-b6af-4a0c-9aab-0bac7b90176a",
    "execution": {
     "iopub.status.busy": "2023-06-02T14:38:56.802685Z",
     "iopub.execute_input": "2023-06-02T14:38:56.803745Z",
     "iopub.status.idle": "2023-06-02T14:38:56.814916Z",
     "shell.execute_reply.started": "2023-06-02T14:38:56.803702Z",
     "shell.execute_reply": "2023-06-02T14:38:56.813730Z"
    },
    "trusted": true
   },
   "execution_count": 73,
   "outputs": []
  },
  {
   "cell_type": "markdown",
   "source": [
    "## Data Processing"
   ],
   "metadata": {}
  },
  {
   "cell_type": "code",
   "source": [
    "# Load CIFAR-10 dataset\n",
    "(X_train,y_train),(X_val,y_val) = cifar10.load_data()"
   ],
   "metadata": {
    "id": "5r2zdXTCPD1m",
    "outputId": "e28fe9af-25e9-4ba4-e333-b983d6beaa34",
    "execution": {
     "iopub.status.busy": "2023-06-02T14:38:59.249236Z",
     "iopub.execute_input": "2023-06-02T14:38:59.249635Z",
     "iopub.status.idle": "2023-06-02T14:39:00.097031Z",
     "shell.execute_reply.started": "2023-06-02T14:38:59.249599Z",
     "shell.execute_reply": "2023-06-02T14:39:00.095765Z"
    },
    "trusted": true
   },
   "execution_count": 74,
   "outputs": []
  },
  {
   "cell_type": "code",
   "source": [
    "print('X_train shape:',X_train.shape)\n",
    "print('X_val shape:',X_val.shape)\n",
    "print('y_train shape:',y_train.shape)\n",
    "print('y_val shape:',y_val.shape)"
   ],
   "metadata": {
    "id": "0GeD8ksoPUrN",
    "outputId": "adc31b35-d758-4844-a18b-5e333d6058ce",
    "execution": {
     "iopub.status.busy": "2023-06-02T14:39:00.099445Z",
     "iopub.execute_input": "2023-06-02T14:39:00.099885Z",
     "iopub.status.idle": "2023-06-02T14:39:00.109943Z",
     "shell.execute_reply.started": "2023-06-02T14:39:00.099841Z",
     "shell.execute_reply": "2023-06-02T14:39:00.108633Z"
    },
    "trusted": true
   },
   "execution_count": 75,
   "outputs": [
    {
     "name": "stdout",
     "text": "X_train shape: (50000, 32, 32, 3)\nX_val shape: (10000, 32, 32, 3)\ny_train shape: (50000, 1)\ny_val shape: (10000, 1)\n",
     "output_type": "stream"
    }
   ]
  },
  {
   "cell_type": "code",
   "source": [
    "# Normalize pixel data\n",
    "X_train = X_train/255.0\n",
    "X_val = X_val/255.0\n",
    "\n",
    "# One Hot Encoding target labels\n",
    "y_cat_train = to_categorical(y_train,10)\n",
    "y_cat_val = to_categorical(y_val,10)"
   ],
   "metadata": {
    "id": "jYwqjoCaR413",
    "execution": {
     "iopub.status.busy": "2023-06-02T14:39:00.491786Z",
     "iopub.execute_input": "2023-06-02T14:39:00.492204Z",
     "iopub.status.idle": "2023-06-02T14:39:00.993036Z",
     "shell.execute_reply.started": "2023-06-02T14:39:00.492170Z",
     "shell.execute_reply": "2023-06-02T14:39:00.991977Z"
    },
    "trusted": true
   },
   "execution_count": 76,
   "outputs": []
  },
  {
   "cell_type": "markdown",
   "source": [
    "## Model Creation"
   ],
   "metadata": {}
  },
  {
   "cell_type": "code",
   "source": [
    "from functools import partial\n",
    "DefaultConv2D = partial(keras.layers.Conv2D, kernel_size=3, strides=1,\n",
    "                        padding=\"SAME\", use_bias=False)"
   ],
   "metadata": {
    "execution": {
     "iopub.status.busy": "2023-06-02T14:39:01.864773Z",
     "iopub.execute_input": "2023-06-02T14:39:01.865206Z",
     "iopub.status.idle": "2023-06-02T14:39:01.871420Z",
     "shell.execute_reply.started": "2023-06-02T14:39:01.865169Z",
     "shell.execute_reply": "2023-06-02T14:39:01.869420Z"
    },
    "trusted": true
   },
   "execution_count": 77,
   "outputs": []
  },
  {
   "cell_type": "code",
   "source": [
    "# Create Keras CNN model using Dropout and BatchNorm Regularizations\n",
    "model = Sequential()\n",
    "\n",
    "model.add(DefaultConv2D(filters=32, kernel_size=(3, 3), input_shape=(32, 32, 3), padding='same'))\n",
    "model.add(BatchNormalization())\n",
    "model.add(Activation('relu'))\n",
    "model.add(DefaultConv2D(filters=64, kernel_size=(3, 3), padding='same'))\n",
    "model.add(BatchNormalization())\n",
    "model.add(Activation('relu'))\n",
    "model.add(MaxPool2D(pool_size=(2, 2)))\n",
    "model.add(Dropout(0.25))\n",
    "\n",
    "model.add(DefaultConv2D(filters=64, kernel_size=(3, 3), padding='same'))\n",
    "model.add(BatchNormalization())\n",
    "model.add(Activation('relu'))\n",
    "model.add(DefaultConv2D(filters=64, kernel_size=(3, 3), padding='same'))\n",
    "model.add(BatchNormalization())\n",
    "model.add(Activation('relu'))\n",
    "model.add(MaxPool2D(pool_size=(2, 2)))\n",
    "model.add(Dropout(0.25))\n",
    "\n",
    "model.add(DefaultConv2D(filters=128, kernel_size=(3, 3), padding='same'))\n",
    "model.add(BatchNormalization())\n",
    "model.add(Activation('relu'))\n",
    "model.add(DefaultConv2D(filters=128, kernel_size=(3, 3), padding='same'))\n",
    "model.add(BatchNormalization())\n",
    "model.add(Activation('relu'))\n",
    "model.add(MaxPool2D(pool_size=(2, 2)))\n",
    "model.add(Dropout(0.25))\n",
    "\n",
    "model.add(Flatten())\n",
    "model.add(Dense(512, activation='relu'))\n",
    "model.add(Dropout(0.5))\n",
    "model.add(Dense(10, activation='softmax'))"
   ],
   "metadata": {
    "execution": {
     "iopub.status.busy": "2023-06-02T15:15:25.124946Z",
     "iopub.execute_input": "2023-06-02T15:15:25.125697Z",
     "iopub.status.idle": "2023-06-02T15:15:25.312715Z",
     "shell.execute_reply.started": "2023-06-02T15:15:25.125659Z",
     "shell.execute_reply": "2023-06-02T15:15:25.309667Z"
    },
    "trusted": true
   },
   "execution_count": 114,
   "outputs": []
  },
  {
   "cell_type": "code",
   "source": [
    "model.summary()"
   ],
   "metadata": {
    "id": "mBurUoDae6rd",
    "outputId": "f768292c-c411-4537-ecdf-0251afa9015d",
    "execution": {
     "iopub.status.busy": "2023-06-02T15:15:25.829213Z",
     "iopub.execute_input": "2023-06-02T15:15:25.837174Z",
     "iopub.status.idle": "2023-06-02T15:15:25.855106Z",
     "shell.execute_reply.started": "2023-06-02T15:15:25.837127Z",
     "shell.execute_reply": "2023-06-02T15:15:25.854037Z"
    },
    "trusted": true
   },
   "execution_count": 115,
   "outputs": [
    {
     "name": "stdout",
     "text": "Model: \"sequential_14\"\n_________________________________________________________________\nLayer (type)                 Output Shape              Param #   \n=================================================================\nconv2d_86 (Conv2D)           (None, 32, 32, 32)        864       \n_________________________________________________________________\nbatch_normalization_57 (Batc (None, 32, 32, 32)        128       \n_________________________________________________________________\nactivation_24 (Activation)   (None, 32, 32, 32)        0         \n_________________________________________________________________\nconv2d_87 (Conv2D)           (None, 32, 32, 64)        18432     \n_________________________________________________________________\nbatch_normalization_58 (Batc (None, 32, 32, 64)        256       \n_________________________________________________________________\nactivation_25 (Activation)   (None, 32, 32, 64)        0         \n_________________________________________________________________\nmax_pooling2d_39 (MaxPooling (None, 16, 16, 64)        0         \n_________________________________________________________________\ndropout_41 (Dropout)         (None, 16, 16, 64)        0         \n_________________________________________________________________\nconv2d_88 (Conv2D)           (None, 16, 16, 64)        36864     \n_________________________________________________________________\nbatch_normalization_59 (Batc (None, 16, 16, 64)        256       \n_________________________________________________________________\nactivation_26 (Activation)   (None, 16, 16, 64)        0         \n_________________________________________________________________\nconv2d_89 (Conv2D)           (None, 16, 16, 64)        36864     \n_________________________________________________________________\nbatch_normalization_60 (Batc (None, 16, 16, 64)        256       \n_________________________________________________________________\nactivation_27 (Activation)   (None, 16, 16, 64)        0         \n_________________________________________________________________\nmax_pooling2d_40 (MaxPooling (None, 8, 8, 64)          0         \n_________________________________________________________________\ndropout_42 (Dropout)         (None, 8, 8, 64)          0         \n_________________________________________________________________\nconv2d_90 (Conv2D)           (None, 8, 8, 128)         73728     \n_________________________________________________________________\nbatch_normalization_61 (Batc (None, 8, 8, 128)         512       \n_________________________________________________________________\nactivation_28 (Activation)   (None, 8, 8, 128)         0         \n_________________________________________________________________\nconv2d_91 (Conv2D)           (None, 8, 8, 128)         147456    \n_________________________________________________________________\nbatch_normalization_62 (Batc (None, 8, 8, 128)         512       \n_________________________________________________________________\nactivation_29 (Activation)   (None, 8, 8, 128)         0         \n_________________________________________________________________\nmax_pooling2d_41 (MaxPooling (None, 4, 4, 128)         0         \n_________________________________________________________________\ndropout_43 (Dropout)         (None, 4, 4, 128)         0         \n_________________________________________________________________\nflatten_13 (Flatten)         (None, 2048)              0         \n_________________________________________________________________\ndense_28 (Dense)             (None, 512)               1049088   \n_________________________________________________________________\ndropout_44 (Dropout)         (None, 512)               0         \n_________________________________________________________________\ndense_29 (Dense)             (None, 10)                5130      \n=================================================================\nTotal params: 1,370,346\nTrainable params: 1,369,386\nNon-trainable params: 960\n_________________________________________________________________\n",
     "output_type": "stream"
    }
   ]
  },
  {
   "cell_type": "markdown",
   "source": [
    "## Model Training"
   ],
   "metadata": {}
  },
  {
   "cell_type": "code",
   "source": [
    "# Apply Nadam optimizer and categorical crossentropy loss\n",
    "optimizer = tf.keras.optimizers.Nadam()\n",
    "model.compile(optimizer=optimizer,loss='categorical_crossentropy',metrics=['accuracy'])"
   ],
   "metadata": {
    "id": "3UWMQHi6oXBs",
    "execution": {
     "iopub.status.busy": "2023-06-02T15:15:27.327095Z",
     "iopub.execute_input": "2023-06-02T15:15:27.327479Z",
     "iopub.status.idle": "2023-06-02T15:15:27.340402Z",
     "shell.execute_reply.started": "2023-06-02T15:15:27.327448Z",
     "shell.execute_reply": "2023-06-02T15:15:27.339115Z"
    },
    "trusted": true
   },
   "execution_count": 116,
   "outputs": []
  },
  {
   "cell_type": "code",
   "source": [
    "# Defining callbacks for model training\n",
    "EPOCHS = 25\n",
    "BATCH_SIZE=32\n",
    "checkpoint_filepath = '/kaggle/working/'\n",
    "model_checkpoint_callback = tf.keras.callbacks.ModelCheckpoint(\n",
    "    filepath=checkpoint_filepath,\n",
    "    save_weights_only=True,\n",
    "    monitor='val_accuracy',\n",
    "    mode='max',\n",
    "    save_best_only=True)\n",
    "\n",
    "learning_rate_reduction = tf.keras.callbacks.ReduceLROnPlateau(\n",
    "    monitor='val_accuracy', factor=0.5, patience=2,min_lr=0.00001,mode='auto')"
   ],
   "metadata": {
    "execution": {
     "iopub.status.busy": "2023-06-02T15:15:28.243260Z",
     "iopub.execute_input": "2023-06-02T15:15:28.243642Z",
     "iopub.status.idle": "2023-06-02T15:15:28.250326Z",
     "shell.execute_reply.started": "2023-06-02T15:15:28.243608Z",
     "shell.execute_reply": "2023-06-02T15:15:28.249215Z"
    },
    "trusted": true
   },
   "execution_count": 117,
   "outputs": []
  },
  {
   "cell_type": "code",
   "source": [
    "history = model.fit(x=X_train,y=y_cat_train,batch_size=BATCH_SIZE,epochs=EPOCHS,callbacks=[learning_rate_reduction,model_checkpoint_callback],validation_split=0.2)"
   ],
   "metadata": {
    "id": "mlsAf1xAWqop",
    "outputId": "c4c7243e-cdf0-4de4-c18c-271ba3a03a0b",
    "execution": {
     "iopub.status.busy": "2023-06-02T15:15:29.668353Z",
     "iopub.execute_input": "2023-06-02T15:15:29.669669Z",
     "iopub.status.idle": "2023-06-02T15:19:59.143217Z",
     "shell.execute_reply.started": "2023-06-02T15:15:29.669605Z",
     "shell.execute_reply": "2023-06-02T15:19:59.142023Z"
    },
    "trusted": true
   },
   "execution_count": 118,
   "outputs": [
    {
     "name": "stdout",
     "text": "Epoch 1/25\n1250/1250 [==============================] - 14s 9ms/step - loss: 1.6446 - accuracy: 0.4018 - val_loss: 1.2187 - val_accuracy: 0.5671\nEpoch 2/25\n1250/1250 [==============================] - 11s 9ms/step - loss: 1.2144 - accuracy: 0.5687 - val_loss: 1.0657 - val_accuracy: 0.6238\nEpoch 3/25\n1250/1250 [==============================] - 11s 9ms/step - loss: 1.0315 - accuracy: 0.6402 - val_loss: 0.9282 - val_accuracy: 0.6662\nEpoch 4/25\n1250/1250 [==============================] - 10s 8ms/step - loss: 0.9127 - accuracy: 0.6841 - val_loss: 0.7745 - val_accuracy: 0.7303\nEpoch 5/25\n1250/1250 [==============================] - 11s 9ms/step - loss: 0.8245 - accuracy: 0.7206 - val_loss: 1.0330 - val_accuracy: 0.6509\nEpoch 6/25\n1250/1250 [==============================] - 11s 9ms/step - loss: 0.7549 - accuracy: 0.7437 - val_loss: 0.6912 - val_accuracy: 0.7642\nEpoch 7/25\n1250/1250 [==============================] - 11s 9ms/step - loss: 0.6912 - accuracy: 0.7650 - val_loss: 0.7287 - val_accuracy: 0.7529\nEpoch 8/25\n1250/1250 [==============================] - 11s 9ms/step - loss: 0.6379 - accuracy: 0.7849 - val_loss: 0.8665 - val_accuracy: 0.7276\nEpoch 9/25\n1250/1250 [==============================] - 11s 9ms/step - loss: 0.5307 - accuracy: 0.8203 - val_loss: 0.5823 - val_accuracy: 0.8044\nEpoch 10/25\n1250/1250 [==============================] - 11s 8ms/step - loss: 0.4926 - accuracy: 0.8326 - val_loss: 0.5127 - val_accuracy: 0.8257\nEpoch 11/25\n1250/1250 [==============================] - 11s 9ms/step - loss: 0.4593 - accuracy: 0.8426 - val_loss: 0.5848 - val_accuracy: 0.8079\nEpoch 12/25\n1250/1250 [==============================] - 10s 8ms/step - loss: 0.4379 - accuracy: 0.8509 - val_loss: 0.5435 - val_accuracy: 0.8248\nEpoch 13/25\n1250/1250 [==============================] - 10s 8ms/step - loss: 0.3812 - accuracy: 0.8692 - val_loss: 0.4517 - val_accuracy: 0.8544\nEpoch 14/25\n1250/1250 [==============================] - 11s 8ms/step - loss: 0.3617 - accuracy: 0.8752 - val_loss: 0.4693 - val_accuracy: 0.8481\nEpoch 15/25\n1250/1250 [==============================] - 11s 9ms/step - loss: 0.3452 - accuracy: 0.8811 - val_loss: 0.4390 - val_accuracy: 0.8573\nEpoch 16/25\n1250/1250 [==============================] - 10s 8ms/step - loss: 0.3293 - accuracy: 0.8852 - val_loss: 0.4594 - val_accuracy: 0.8536\nEpoch 17/25\n1250/1250 [==============================] - 11s 8ms/step - loss: 0.3178 - accuracy: 0.8902 - val_loss: 0.4547 - val_accuracy: 0.8542\nEpoch 18/25\n1250/1250 [==============================] - 11s 9ms/step - loss: 0.2895 - accuracy: 0.8987 - val_loss: 0.4300 - val_accuracy: 0.8637\nEpoch 19/25\n1250/1250 [==============================] - 10s 8ms/step - loss: 0.2802 - accuracy: 0.9025 - val_loss: 0.4460 - val_accuracy: 0.8627\nEpoch 20/25\n1250/1250 [==============================] - 11s 8ms/step - loss: 0.2728 - accuracy: 0.9059 - val_loss: 0.4596 - val_accuracy: 0.8582\nEpoch 21/25\n1250/1250 [==============================] - 10s 8ms/step - loss: 0.2551 - accuracy: 0.9121 - val_loss: 0.4415 - val_accuracy: 0.8679\nEpoch 22/25\n1250/1250 [==============================] - 10s 8ms/step - loss: 0.2504 - accuracy: 0.9122 - val_loss: 0.4388 - val_accuracy: 0.8654\nEpoch 23/25\n1250/1250 [==============================] - 11s 8ms/step - loss: 0.2484 - accuracy: 0.9118 - val_loss: 0.4358 - val_accuracy: 0.8676\nEpoch 24/25\n1250/1250 [==============================] - 10s 8ms/step - loss: 0.2366 - accuracy: 0.9165 - val_loss: 0.4424 - val_accuracy: 0.8671\nEpoch 25/25\n1250/1250 [==============================] - 10s 8ms/step - loss: 0.2361 - accuracy: 0.9167 - val_loss: 0.4424 - val_accuracy: 0.8683\n",
     "output_type": "stream"
    }
   ]
  },
  {
   "cell_type": "markdown",
   "source": [
    "## Model Test Accuracy"
   ],
   "metadata": {}
  },
  {
   "cell_type": "code",
   "source": [
    "evaluation = model.evaluate(X_val, y_cat_val)\n",
    "print(f'Test Accuracy : {evaluation[1] * 100:.2f}%')"
   ],
   "metadata": {
    "id": "cEECaS9FYcf7",
    "outputId": "49480ee3-8b99-44b4-fbd3-8f74a9315ee0",
    "execution": {
     "iopub.status.busy": "2023-06-02T15:20:02.837491Z",
     "iopub.execute_input": "2023-06-02T15:20:02.837937Z",
     "iopub.status.idle": "2023-06-02T15:20:04.387582Z",
     "shell.execute_reply.started": "2023-06-02T15:20:02.837897Z",
     "shell.execute_reply": "2023-06-02T15:20:04.386462Z"
    },
    "trusted": true
   },
   "execution_count": 119,
   "outputs": [
    {
     "name": "stdout",
     "text": "313/313 [==============================] - 1s 4ms/step - loss: 0.4501 - accuracy: 0.8671\nTest Accuracy : 86.71%\n",
     "output_type": "stream"
    }
   ]
  },
  {
   "cell_type": "markdown",
   "source": [
    "## Plot metrics "
   ],
   "metadata": {}
  },
  {
   "cell_type": "code",
   "source": [
    "def plot_results(metrics, title=None, ylabel=None, ylim=None, metric_name=None, color=None):\n",
    "     \n",
    "    fig, ax = plt.subplots(figsize=(15, 4))\n",
    " \n",
    "    if not (isinstance(metric_name, list) or isinstance(metric_name, tuple)):\n",
    "        metrics = [metrics,]\n",
    "        metric_name = [metric_name,]\n",
    "         \n",
    "    for idx, metric in enumerate(metrics):    \n",
    "        ax.plot(metric, color=color[idx])\n",
    "     \n",
    "    plt.xlabel(\"Epoch\")\n",
    "    plt.ylabel(ylabel)\n",
    "    plt.title(title)\n",
    "    plt.xlim([0,EPOCHS-1])\n",
    "    plt.ylim(ylim)\n",
    "    # Tailor x-axis tick marks\n",
    "    ax.xaxis.set_major_locator(MultipleLocator(5))\n",
    "    ax.xaxis.set_major_formatter(FormatStrFormatter('%d'))\n",
    "    ax.xaxis.set_minor_locator(MultipleLocator(1))\n",
    "    plt.grid(True)\n",
    "    plt.legend(metric_name)   \n",
    "    plt.show()\n",
    "    plt.close()"
   ],
   "metadata": {
    "execution": {
     "iopub.status.busy": "2023-06-02T15:21:45.720289Z",
     "iopub.execute_input": "2023-06-02T15:21:45.720704Z",
     "iopub.status.idle": "2023-06-02T15:21:45.745989Z",
     "shell.execute_reply.started": "2023-06-02T15:21:45.720664Z",
     "shell.execute_reply": "2023-06-02T15:21:45.744673Z"
    },
    "trusted": true
   },
   "execution_count": 120,
   "outputs": []
  },
  {
   "cell_type": "code",
   "source": [
    "# Retrieve training results.\n",
    "train_loss = history.history[\"loss\"]\n",
    "train_acc  = history.history[\"accuracy\"]\n",
    "valid_loss = history.history[\"val_loss\"]\n",
    "valid_acc  = history.history[\"val_accuracy\"]\n",
    "     \n",
    "plot_results([ train_loss, valid_loss ],        \n",
    "            ylabel=\"Loss\", \n",
    "            ylim = [0.0, 5.0],\n",
    "            metric_name=[\"Training Loss\", \"Validation Loss\"],\n",
    "            color=[\"g\", \"b\"]);\n",
    " \n",
    "plot_results([ train_acc, valid_acc ], \n",
    "            ylabel=\"Accuracy\",\n",
    "            ylim = [0.0, 1.0],\n",
    "            metric_name=[\"Training Accuracy\", \"Validation Accuracy\"],\n",
    "            color=[\"g\", \"b\"])"
   ],
   "metadata": {
    "id": "BAXzxj58n37R",
    "execution": {
     "iopub.status.busy": "2023-06-02T15:21:46.530747Z",
     "iopub.execute_input": "2023-06-02T15:21:46.531550Z",
     "iopub.status.idle": "2023-06-02T15:21:47.125818Z",
     "shell.execute_reply.started": "2023-06-02T15:21:46.531502Z",
     "shell.execute_reply": "2023-06-02T15:21:47.124691Z"
    },
    "trusted": true
   },
   "execution_count": 121,
   "outputs": [
    {
     "output_type": "display_data",
     "data": {
      "text/plain": "<Figure size 1080x288 with 1 Axes>",
      "image/png": "[encoded data removed]"
     },
     "metadata": {
      "needs_background": "light"
     }
    },
    {
     "output_type": "display_data",
     "data": {
      "text/plain": "<Figure size 1080x288 with 1 Axes>",
      "image/png": "[encoded data removed]"
     },
     "metadata": {
      "needs_background": "light"
     }
    }
   ]
  },
  {
   "cell_type": "markdown",
   "source": [
    "## References\n",
    "\n",
    "1.  https://keras.io/examples/vision/mnist_convnet/  \n",
    "\n",
    "2.  https://learnopencv.com/implementing-cnn-tensorflow-keras/#:~:text=In%20this%20section%2C%20we%20will%20define%20a%20simple,model.compile%20%28%29%20Train%20the%20model%20with%20model.fit%20%28%29  \n",
    "\n",
    "3.  https://github.com/SupreethRao99/Kaggle/blob/master/Waste_Classification_Data.ipynb"
   ],
   "metadata": {}
  }
 ]
}
